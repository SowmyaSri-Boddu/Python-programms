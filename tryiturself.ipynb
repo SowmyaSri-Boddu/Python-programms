{
  "nbformat": 4,
  "nbformat_minor": 0,
  "metadata": {
    "colab": {
      "name": "tryiturself.ipynb",
      "provenance": []
    },
    "kernelspec": {
      "name": "python3",
      "display_name": "Python 3"
    }
  },
  "cells": [
    {
      "cell_type": "markdown",
      "metadata": {
        "id": "adIq4O8gh1YE",
        "colab_type": "text"
      },
      "source": [
        "1.Loop through the items in the fruits list"
      ]
    },
    {
      "cell_type": "code",
      "metadata": {
        "id": "v3lTL8QSeoOO",
        "colab_type": "code",
        "colab": {
          "base_uri": "https://localhost:8080/",
          "height": 68
        },
        "outputId": "54c45fc5-1e36-4361-aa1a-4c06581c4838"
      },
      "source": [
        "fruits=[\"apple\",\"banana\",\"cherry\"]\n",
        "for x in fruits:\n",
        "     print(x)"
      ],
      "execution_count": 4,
      "outputs": [
        {
          "output_type": "stream",
          "text": [
            "apple\n",
            "banana\n",
            "cherry\n"
          ],
          "name": "stdout"
        }
      ]
    },
    {
      "cell_type": "markdown",
      "metadata": {
        "id": "QNza3u1RiKIB",
        "colab_type": "text"
      },
      "source": [
        "2.Print i as long as i is less than 6"
      ]
    },
    {
      "cell_type": "code",
      "metadata": {
        "id": "JNrR1WGRfWop",
        "colab_type": "code",
        "colab": {
          "base_uri": "https://localhost:8080/",
          "height": 102
        },
        "outputId": "954ee68d-bd74-4e13-ede3-e21bf473a0da"
      },
      "source": [
        "i=1\n",
        "while(i<6):\n",
        "     print(i)\n",
        "     i+=1"
      ],
      "execution_count": 6,
      "outputs": [
        {
          "output_type": "stream",
          "text": [
            "1\n",
            "2\n",
            "3\n",
            "4\n",
            "5\n"
          ],
          "name": "stdout"
        }
      ]
    },
    {
      "cell_type": "markdown",
      "metadata": {
        "id": "MY0mPahHiefu",
        "colab_type": "text"
      },
      "source": [
        "3.Print \"hello World\"if a is greater than b."
      ]
    },
    {
      "cell_type": "code",
      "metadata": {
        "id": "U-BhxP0lip1o",
        "colab_type": "code",
        "colab": {
          "base_uri": "https://localhost:8080/",
          "height": 34
        },
        "outputId": "3759effd-2d95-47b2-f4ef-8202fe232708"
      },
      "source": [
        "a=50\n",
        "b=10\n",
        "if(a>b):\n",
        "     print(\"Hello World\")"
      ],
      "execution_count": 7,
      "outputs": [
        {
          "output_type": "stream",
          "text": [
            "Hello World\n"
          ],
          "name": "stdout"
        }
      ]
    },
    {
      "cell_type": "markdown",
      "metadata": {
        "id": "IfbJ27nfi98a",
        "colab_type": "text"
      },
      "source": [
        "4.Take a variable x and print \"Even\" if the number(x) is divisible by 2,otherwise print \"Odd\""
      ]
    },
    {
      "cell_type": "code",
      "metadata": {
        "id": "NRW8JAi5i6rM",
        "colab_type": "code",
        "colab": {
          "base_uri": "https://localhost:8080/",
          "height": 34
        },
        "outputId": "c89539b7-b539-42dc-8bc2-7c52e30c5bd4"
      },
      "source": [
        "x=10\n",
        "if(x%2==0):\n",
        "     print(\"Even\")\n",
        "else:\n",
        "     print(\"Odd\")"
      ],
      "execution_count": 15,
      "outputs": [
        {
          "output_type": "stream",
          "text": [
            "Even\n"
          ],
          "name": "stdout"
        }
      ]
    },
    {
      "cell_type": "markdown",
      "metadata": {
        "id": "ZfszbEMOkrL4",
        "colab_type": "text"
      },
      "source": [
        "5.Take a variable y and print \"Grade A\" if y is greater than 90,\"Grade B\" if y is greater than 60 but less than or equal to 90 and \"Grade F\"otherwise."
      ]
    },
    {
      "cell_type": "code",
      "metadata": {
        "id": "qEkFKs_Uj_Ac",
        "colab_type": "code",
        "colab": {
          "base_uri": "https://localhost:8080/",
          "height": 34
        },
        "outputId": "8d1e2bf4-35c3-4d46-86d0-d44eb9b11364"
      },
      "source": [
        "y=90\n",
        "if(y>90):\n",
        "     print(\"Grade A\")\n",
        "elif(y>60 and y<=90):\n",
        "     print(\"Grade B\")\n",
        "else:\n",
        "     print(\"Grade F\")"
      ],
      "execution_count": 21,
      "outputs": [
        {
          "output_type": "stream",
          "text": [
            "Grade B\n"
          ],
          "name": "stdout"
        }
      ]
    },
    {
      "cell_type": "markdown",
      "metadata": {
        "id": "y50lMIuOmvBN",
        "colab_type": "text"
      },
      "source": [
        "6.Write a for loop to print all the numbers between 10 and 50."
      ]
    },
    {
      "cell_type": "code",
      "metadata": {
        "id": "6XiUkh57mR_W",
        "colab_type": "code",
        "colab": {
          "base_uri": "https://localhost:8080/",
          "height": 680
        },
        "outputId": "51c3201d-d14d-408a-ebf3-03acd2874362"
      },
      "source": [
        "for i in range(11,50):\n",
        "     print(i)"
      ],
      "execution_count": 24,
      "outputs": [
        {
          "output_type": "stream",
          "text": [
            "11\n",
            "12\n",
            "13\n",
            "14\n",
            "15\n",
            "16\n",
            "17\n",
            "18\n",
            "19\n",
            "20\n",
            "21\n",
            "22\n",
            "23\n",
            "24\n",
            "25\n",
            "26\n",
            "27\n",
            "28\n",
            "29\n",
            "30\n",
            "31\n",
            "32\n",
            "33\n",
            "34\n",
            "35\n",
            "36\n",
            "37\n",
            "38\n",
            "39\n",
            "40\n",
            "41\n",
            "42\n",
            "43\n",
            "44\n",
            "45\n",
            "46\n",
            "47\n",
            "48\n",
            "49\n"
          ],
          "name": "stdout"
        }
      ]
    },
    {
      "cell_type": "markdown",
      "metadata": {
        "id": "hElJCtMIoXHU",
        "colab_type": "text"
      },
      "source": [
        "7.Write a for loop to print all the Odd numbers between 50 and 100."
      ]
    },
    {
      "cell_type": "code",
      "metadata": {
        "id": "kDCWtqvOnZZD",
        "colab_type": "code",
        "colab": {
          "base_uri": "https://localhost:8080/",
          "height": 442
        },
        "outputId": "87613497-2f84-4277-ec7f-8a27897332c6"
      },
      "source": [
        "for i in range(50,100):\n",
        "  if(i%2!=0):\n",
        "      print(i)"
      ],
      "execution_count": 25,
      "outputs": [
        {
          "output_type": "stream",
          "text": [
            "51\n",
            "53\n",
            "55\n",
            "57\n",
            "59\n",
            "61\n",
            "63\n",
            "65\n",
            "67\n",
            "69\n",
            "71\n",
            "73\n",
            "75\n",
            "77\n",
            "79\n",
            "81\n",
            "83\n",
            "85\n",
            "87\n",
            "89\n",
            "91\n",
            "93\n",
            "95\n",
            "97\n",
            "99\n"
          ],
          "name": "stdout"
        }
      ]
    }
  ]
}