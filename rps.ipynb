{
  "nbformat": 4,
  "nbformat_minor": 0,
  "metadata": {
    "colab": {
      "name": "rps.ipynb",
      "provenance": []
    },
    "kernelspec": {
      "name": "python3",
      "display_name": "Python 3"
    }
  },
  "cells": [
    {
      "cell_type": "code",
      "metadata": {
        "id": "FmZ2F9EmAoQ8",
        "colab_type": "code",
        "colab": {
          "base_uri": "https://localhost:8080/",
          "height": 656
        },
        "outputId": "b38c18a7-c924-45a6-e753-52ca67883e8c"
      },
      "source": [
        "#ROCK,PAPAER,SCISSORS code by srinu\n",
        "import random\n",
        "import sys\n",
        "\n",
        "print('ROCK, PAPER, SCISSORS')\n",
        "\n",
        "# These variables keep track of the number of wins, losses and ties\n",
        "wins = 0\n",
        "losses = 0\n",
        "ties = 0\n",
        "\n",
        "\n",
        "\n",
        "#debug below code only\n",
        "\n",
        "while True:     # The main game loop\n",
        "    print('%s Wins, %s Losses, %s Ties \\n\\n'% (wins, losses, ties))\n",
        "    while True:     # The player input loop\n",
        "        print('Enter your move: (r)ock (p)aper (s)cissors or (q)uit')\n",
        "        playerMove = input('Enter any one (p,q,r,s):')\n",
        "        if playerMove == 'q':\n",
        "            sys.exit()      # quit the program\n",
        "        elif playerMove == 'r' or playerMove == 'p' or playerMove == 's':\n",
        "           break       # Break out of the player input loop\n",
        "        print('Type one of r, p, s or q')\n",
        "\n",
        "    # Display what the player choose\n",
        "    if playerMove == 'r':\n",
        "        print('ROCK versus...')\n",
        "    elif playerMove == 'p':\n",
        "        print('PAPER versus...')\n",
        "    elif playerMove == 's':\n",
        "        print(\"SCISSORS versus...\")\n",
        "\n",
        "    # Display what computer choose\n",
        "    randomNumber = random.randint(1, 3)\n",
        "    if randomNumber == 1:\n",
        "        computerMove = 'r'\n",
        "        print('ROCK')\n",
        "    elif randomNumber == 2:\n",
        "        computerMove = 'p'\n",
        "        print('PAPER')\n",
        "    elif randomNumber == 3:\n",
        "        computerMove = 's'\n",
        "        print('SCISSORS')\n",
        "\n",
        "#no errors in below code\n",
        "\n",
        "    # Display and record the win/loss/tie\n",
        "    if playerMove == computerMove:\n",
        "        print(\"It's a tie!\")\n",
        "        ties = ties + 1\n",
        "    elif playerMove == 'r' and computerMove == 's':\n",
        "        print('You win!')\n",
        "        wins = wins + 1\n",
        "    elif playerMove == 'p' and computerMove == 'r':\n",
        "        print('You win!')\n",
        "        wins = wins + 1\n",
        "    elif playerMove == 's' and computerMove == 'p':\n",
        "        print('You win!')\n",
        "        wins =  wins + 1\n",
        "    elif playerMove == 'r' and computerMove == 'p':\n",
        "        print('You lose!')\n",
        "        losses = losses+1\n",
        "    elif playerMove == 'p' and computerMove == 's':\n",
        "        print('You lose!')\n",
        "        losses = losses + 1\n",
        "    elif playerMove == 's' and computerMove == 'r':\n",
        "        print('You lose!')\n",
        "        losses = losses + 1\n",
        "\n"
      ],
      "execution_count": null,
      "outputs": [
        {
          "output_type": "stream",
          "text": [
            "ROCK, PAPER, SCISSORS\n",
            "0 Wins, 0 Losses, 0 Ties \n",
            "\n",
            "\n",
            "Enter your move: (r)ock (p)aper (s)cissors or (q)uit\n",
            "Enter any one (p,q,r,s):p\n",
            "PAPER versus...\n",
            "ROCK\n",
            "You win!\n",
            "1 Wins, 0 Losses, 0 Ties \n",
            "\n",
            "\n",
            "Enter your move: (r)ock (p)aper (s)cissors or (q)uit\n",
            "Enter any one (p,q,r,s):s\n",
            "SCISSORS versus...\n",
            "PAPER\n",
            "You win!\n",
            "2 Wins, 0 Losses, 0 Ties \n",
            "\n",
            "\n",
            "Enter your move: (r)ock (p)aper (s)cissors or (q)uit\n",
            "Enter any one (p,q,r,s):r\n",
            "ROCK versus...\n",
            "PAPER\n",
            "You lose!\n",
            "2 Wins, 1 Losses, 0 Ties \n",
            "\n",
            "\n",
            "Enter your move: (r)ock (p)aper (s)cissors or (q)uit\n",
            "Enter any one (p,q,r,s):q\n"
          ],
          "name": "stdout"
        },
        {
          "output_type": "error",
          "ename": "SystemExit",
          "evalue": "ignored",
          "traceback": [
            "An exception has occurred, use %tb to see the full traceback.\n",
            "\u001b[0;31mSystemExit\u001b[0m\n"
          ]
        },
        {
          "output_type": "stream",
          "text": [
            "/usr/local/lib/python3.6/dist-packages/IPython/core/interactiveshell.py:2890: UserWarning: To exit: use 'exit', 'quit', or Ctrl-D.\n",
            "  warn(\"To exit: use 'exit', 'quit', or Ctrl-D.\", stacklevel=1)\n"
          ],
          "name": "stderr"
        }
      ]
    },
    {
      "cell_type": "code",
      "metadata": {
        "id": "Se6OHW5mFH9o",
        "colab_type": "code",
        "colab": {}
      },
      "source": [
        ""
      ],
      "execution_count": null,
      "outputs": []
    }
  ]
}